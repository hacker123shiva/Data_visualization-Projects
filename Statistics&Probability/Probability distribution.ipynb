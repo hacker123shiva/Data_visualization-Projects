{
 "cells": [
  {
   "cell_type": "markdown",
   "id": "3c228b05",
   "metadata": {},
   "source": [
    "#### Probability distribution\n",
    "A probability Distribution represents the predicted outcomes of various values for a given data. Probability distributions occur in a variety of forms and sizes, each with its own set of characteristics such as mean, median, mode, skewness, standard deviation, kurtosis, etc. Probability distributions are of various types let’s demonstrate how to find them in this article. "
   ]
  },
  {
   "cell_type": "markdown",
   "id": "1594e0c7",
   "metadata": {},
   "source": [
    "#### Normal Distribution\n",
    "The normal distribution is a symmetric probability distribution centered on the mean, indicating that data around the mean occur more frequently than data far from it. the normal distribution is also called Gaussian distribution. The normal distribution curve resembles a bell curve "
   ]
  },
  {
   "cell_type": "code",
   "execution_count": null,
   "id": "b9360c23",
   "metadata": {},
   "outputs": [],
   "source": [
    "# import packages\n",
    "import scipy.stats as stats\n",
    "import seaborn as sns\n",
    "import matplotlib.pyplot as plt\n",
    "\n",
    "\n",
    "# generate data\n",
    "data =stats.norm(scale=1, loc=0).rvs(1000)\n",
    "\n",
    "# plotting a histogram\n",
    "ax = sns.distplot(data,\n",
    "\t\t\t\tbins=50,\n",
    "\t\t\t\tkde=True,\n",
    "\t\t\t\tcolor='red',\n",
    "\t\t\t\thist_kws={\"linewidth\": 15,'alpha':1})\n",
    "ax.set(xlabel='Normal Distribution', ylabel='Frequency')\n",
    "\n",
    "plt.show()\n"
   ]
  },
  {
   "cell_type": "markdown",
   "id": "9a9eafcd",
   "metadata": {},
   "source": [
    "#### Binomial Distribution\n",
    "Under a given set of factors or assumptions, the binomial distribution expresses the likelihood that a variable will take one of two outcomes or independent values. ex: if an experiment is successful or a failure. if the answer for a question is “yes” or “no” etc… . np.random.binomial() is used to generate binomial data. n refers to a number of trails and prefers the probability of each trail.  "
   ]
  },
  {
   "cell_type": "code",
   "execution_count": null,
   "id": "2ed8c839",
   "metadata": {},
   "outputs": [],
   "source": [
    "# import packages\n",
    "import seaborn as sns\n",
    "import matplotlib.pyplot as plt\n",
    "import numpy as np\n",
    "\n",
    "# generate data\n",
    "# n== number of trials,p== probability of each trial\n",
    "n, p = 10, .6\n",
    "data = np.random.binomial(n, p, 10000)\n",
    "\n",
    "# plotting a histogram\n",
    "ax = sns.distplot(data,\n",
    "\t\t\t\tbins=20,\n",
    "\t\t\t\tkde=False,\n",
    "\t\t\t\tcolor='red',\n",
    "\t\t\t\thist_kws={\"linewidth\": 15, 'alpha': 1})\n",
    "ax.set(xlabel='Binomial Distribution', ylabel='Frequency')\n",
    "\n",
    "plt.show()\n"
   ]
  },
  {
   "cell_type": "markdown",
   "id": "96e72265",
   "metadata": {},
   "source": [
    "#### Poisson Distribution:\n",
    "A Poisson distribution is a kind of probability distribution used in statistics to illustrate how many times an event is expected to happen over a certain amount of time. It’s also called count distribution. np.random.poisson function() is used to create data for poisson distribution. lam refers to The number of occurrences that are expected to occur in a given time frame. In this example, we can take the condition as “if a student studies for 5 hours a day, the probability that he’ll study 6 hours a day is? "
   ]
  },
  {
   "cell_type": "code",
   "execution_count": null,
   "id": "a28aad7f",
   "metadata": {},
   "outputs": [],
   "source": [
    "# import packages\n",
    "import seaborn as sns\n",
    "import matplotlib.pyplot as plt\n",
    "import numpy as np\n",
    "\n",
    "# generate poisson data\n",
    "poisson_data = np.random.poisson(lam=5, size=1000)\n",
    "\n",
    "# plotting a histogram\n",
    "ax = sns.distplot(poisson_data,\n",
    "\t\t\t\tkde=False,\n",
    "\t\t\t\tcolor='blue')\n",
    "ax.set(xlabel='Poisson Distribution', ylabel='Frequency')\n",
    "\n",
    "plt.show()\n"
   ]
  },
  {
   "cell_type": "code",
   "execution_count": null,
   "id": "8a03bb96",
   "metadata": {},
   "outputs": [],
   "source": []
  }
 ],
 "metadata": {
  "kernelspec": {
   "display_name": "Python 3 (ipykernel)",
   "language": "python",
   "name": "python3"
  },
  "language_info": {
   "codemirror_mode": {
    "name": "ipython",
    "version": 3
   },
   "file_extension": ".py",
   "mimetype": "text/x-python",
   "name": "python",
   "nbconvert_exporter": "python",
   "pygments_lexer": "ipython3",
   "version": "3.9.12"
  }
 },
 "nbformat": 4,
 "nbformat_minor": 5
}

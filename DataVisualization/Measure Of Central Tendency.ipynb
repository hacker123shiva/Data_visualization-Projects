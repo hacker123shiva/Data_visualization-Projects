{
 "cells": [
  {
   "cell_type": "markdown",
   "id": "94b72a68",
   "metadata": {},
   "source": [
    "<h1>Measures of Central Tendency</h1>"
   ]
  },
  {
   "cell_type": "markdown",
   "id": "cd43d1b8",
   "metadata": {
    "ExecuteTime": {
     "end_time": "2022-09-22T18:01:01.670388Z",
     "start_time": "2022-09-22T18:01:01.656641Z"
    }
   },
   "source": [
    "<pre><h3>\n",
    "It is a single value that represents the middle or center point of a dataset. This value is referred to as  the central location of a dataset.</h3>\n",
    "\n",
    "\n",
    "<b>There are three common measures of central tendency:</b>\n",
    "<ul>\n",
    "<li>The mean</li>\n",
    "<li>The median</li>\n",
    "<li>The mode</li>\n",
    "\n",
    "\n",
    "<h3>Why we are using measures of Central Tendency?</h3>\n",
    "\n",
    "<code>We are using to calculate average percentage , maximum marks and higest century made by which cricketer , this are few example which explain why we need Central Tendency.</code>\n",
    "\n",
    "\n",
    "<h3>Mean</h3>\n",
    "<code>“Average” value is termed as the mean of the dataset. It is very easy to calculate the mean.</code>\n",
    "\n",
    "<h3>Median</h3>\n",
    "<code>\n",
    "The middle value of the sorted dataset is called the median.  Consider a dataset comprising ‘n’ elements.</code>\n",
    "\n",
    "<h3>Mode</h3>\n",
    "<code>The most frequently occuring value in dataset is known as mode.</code>\n",
    "\n",
    "\n",
    "<code> \n",
    "<b>Mean</b> =(10+20+30+40+50)/5=150/5=30kg\n",
    "<b>Median</b> \n",
    "Arrange the data in ascending order:(10,20,30,40,50)\n",
    "middle value is 30kg\n",
    "<b>Mode</b>\n",
    "since, mode is multimodal in this data therefore we can consider mode also as \n",
    "30kg.\n",
    "</code>\n",
    "\n",
    "\n",
    "</pre>"
   ]
  },
  {
   "cell_type": "markdown",
   "id": "87e19ca4",
   "metadata": {},
   "source": [
    "<pre>\n",
    "<h3>Mean</h3>\n",
    "The most commonly used measure of central tendency is the mean. To calculate the mean of a dataset, you simply add up all of the individual values and divide by the total number of values.\n",
    "<pre>"
   ]
  },
  {
   "cell_type": "markdown",
   "id": "5baefbaf",
   "metadata": {},
   "source": [
    "<pre>\n",
    "<b>Example</b>\n",
    "Suppose we have some observation of dataset that shows the number  of home\n",
    "runs hit by 10 baseball players on the same team in one season\n",
    "\n",
    "Player\t#1\t#2\t#3\t#4 #5\t#6\t#7\t#8\t#9\t#10\n",
    "Home Runs\t8\t15\t22\t21\t12\t9\t11\t27\t14\t13\n",
    "\n",
    "Mean of home runs hit per player can be calculated as:\n",
    "    \n",
    "Mean  = (8+15+22+21+12+9+11+27+14+13) / 10 = 15.2 home runs.\n",
    "\n",
    "</pre>\n",
    "    "
   ]
  },
  {
   "cell_type": "markdown",
   "id": "1a9cb8ec",
   "metadata": {
    "ExecuteTime": {
     "end_time": "2022-09-22T17:54:15.349774Z",
     "start_time": "2022-09-22T17:54:15.302580Z"
    }
   },
   "source": [
    "<pre>\n",
    "<h3>Median</h3>\n",
    "The median is the middle value in a dataset. You can find the median \n",
    "by arranging all the individual values in a dataset from smallest to largest and finding the middle value. \n",
    "If there are an odd number of values, the median is the middle value. If there are an even number of values, the median is the average of the two middle values.</pre>"
   ]
  },
  {
   "cell_type": "markdown",
   "id": "3aab7c69",
   "metadata": {},
   "source": [
    "<pre>\n",
    "<b>Example</b>\n",
    "To find the median number of home runs hit by the 10 baseball players in the previous example we can arrange the players in order from\n",
    "least to greatest number of home runs hit:\n",
    "\n",
    "Player\t#1\t#6\t#7\t#5\t#10\t#9\t#2\t#4\t#3\t#8\n",
    "Home Runs\t8\t9\t11\t12\t13\t14\t15\t21\t22\t27\n",
    "Since we have an even number of values, the median is simply the average of the two middle values: 13.5. </pre>"
   ]
  },
  {
   "cell_type": "markdown",
   "id": "f8d60404",
   "metadata": {
    "ExecuteTime": {
     "end_time": "2022-09-22T17:55:36.810780Z",
     "start_time": "2022-09-22T17:55:36.788481Z"
    }
   },
   "source": [
    "<pre>\n",
    "<h3>Mode</h3>\n",
    "The mode is the value that occurs most often in a dataset.\n",
    "A dataset can have no mode (if no value repeats), one mode, or multiple modes.\n",
    "</pre>"
   ]
  },
  {
   "cell_type": "markdown",
   "id": "f8fe75d2",
   "metadata": {},
   "source": [
    "<pre>\n",
    "<b>Example</b>\n",
    "For example, the following dataset has no mode:\n",
    "\n",
    "Player\t#1\t#2\t#3\t#4\t#5\t#6\t#7\t#8\t#9\t#10\n",
    "Home Runs\t8\t9\t11\t12\t13\t14\t15\t21\t22\t27\n",
    "The following dataset has one mode: 15. This is the value that occurs most frequently\n",
    "    </pre>"
   ]
  },
  {
   "cell_type": "markdown",
   "id": "04728afd",
   "metadata": {
    "ExecuteTime": {
     "end_time": "2022-09-22T18:38:45.266716Z",
     "start_time": "2022-09-22T18:38:45.239871Z"
    }
   },
   "source": [
    "<pre>\n",
    "<h2>\n",
    "When to Use the Mean, Median, and Mode</h2>\n",
    "<b>Mean:</b> Findiing the average value in dataset \n",
    "<b>Median:</b> Finding the middle value in a dataset</b>\n",
    "<b>Mode:</b> Finding the most freqently occuring value in a dataset\n",
    "\n",
    "<h3>When to use the mean</h3>\n",
    "Use the mean when the distribution of the data is fairly symmetrical and there are no outliers.\n",
    "\n",
    "<img src=\"mean_dist2.jpg\">\n",
    "\n",
    "<h2>When to use the median</h2>\n",
    "We are using the median when the distribution of the data is either skewed or there are \n",
    "outliers present.\n",
    "\n",
    "<h3>Skewed data:</h3>\n",
    "When the distribution is skewed, the median still does a good job of capturing the center location. For example,\n",
    "consider the following distribution of salaries for individuals in a certain town:\n",
    "    \n",
    "<img src=\"median_dist.jpg\">\n",
    "\n",
    "<h3>\n",
    "Outliers:\n",
    "</h3>\n",
    "The median also does a better job of capturing the central location of a distribution when there are outliers present in the data. For example, consider the following chart that shows the square footage of houses on a certain street.\n",
    "<img src=\"mean_dist3.jpg\">\n",
    "\n",
    "<h2>When to use the mode</h2>\n",
    "It is best to use the mode when you are working with categorical data and you want\n",
    "to know which category occurs most frequently. \n",
    "\n",
    "<b>Example</b>\n",
    "<ul>\n",
    "<li>If you want to find the most frequently used mobile phone between mi, apple\n",
    "oppo </li>\n",
    "<li>\n",
    "If you want to choice three website design and you want to know which design\n",
    "and you want know which design people prefer most </li>\n",
    "\n",
    "</pre>"
   ]
  },
  {
   "cell_type": "markdown",
   "id": "7b3f7623",
   "metadata": {},
   "source": [
    " "
   ]
  },
  {
   "cell_type": "code",
   "execution_count": null,
   "id": "2e8f08de",
   "metadata": {},
   "outputs": [],
   "source": []
  }
 ],
 "metadata": {
  "kernelspec": {
   "display_name": "Python 3 (ipykernel)",
   "language": "python",
   "name": "python3"
  },
  "language_info": {
   "codemirror_mode": {
    "name": "ipython",
    "version": 3
   },
   "file_extension": ".py",
   "mimetype": "text/x-python",
   "name": "python",
   "nbconvert_exporter": "python",
   "pygments_lexer": "ipython3",
   "version": "3.10.5"
  }
 },
 "nbformat": 4,
 "nbformat_minor": 5
}

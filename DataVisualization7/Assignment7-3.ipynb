{
 "cells": [
  {
   "cell_type": "code",
   "execution_count": 11,
   "id": "6f68e05a",
   "metadata": {
    "ExecuteTime": {
     "end_time": "2022-11-08T13:29:31.488278Z",
     "start_time": "2022-11-08T13:29:31.470275Z"
    }
   },
   "outputs": [
    {
     "name": "stdout",
     "output_type": "stream",
     "text": [
      "Female    287\n",
      "Male      113\n",
      "Name: Weekdays, dtype: int64\n"
     ]
    }
   ],
   "source": [
    " \"\"\"\n",
    "Fantaloons Sales managers commented that % of males versus \n",
    "females walking into the store differ based on day of the week.\n",
    "Analyze the data and determine whether there is evidence at 5 % \n",
    "significance level to support this hypothesis.\n",
    "File: Fantaloons.csv\n",
    " \n",
    "\n",
    "\"\"\"\n",
    "\n",
    "import pandas as pd\n",
    "import numpy as np\n",
    "import scipy.stats as stats\n",
    "import matplotlib.pyplot as plt\n",
    "import seaborn as sns\n",
    "from statsmodels.stats.proportion import proportions_ztest\n",
    "\n",
    "df = pd.read_csv('Fantaloons - Fantaloons.csv')\n",
    "df.head()\n",
    "\n",
    "print(df['Weekdays'].value_counts()) # 7 days of the week are present in the data set\n",
    "\n",
    "\n",
    "# 1. Create a contingency table for the data set and find the  p-value for the same using the chi-square test. \n",
    "# 2. If the p-value is less than 0.05, then reject the null hypothesis and conclude that the proportion  \n",
    "\n",
    "# 3. If the p-value is greater than 0.05, then accept the null hypothesis and conclude that the proportion\n",
    "\n",
    "\n",
    "\n",
    " \n",
    "\n",
    "\n",
    " "
   ]
  },
  {
   "cell_type": "code",
   "execution_count": null,
   "id": "f1d55d3d",
   "metadata": {},
   "outputs": [],
   "source": [
    "#Ho= percentage of males versus females walking in to the store doesn't differ based on day of the week\n",
    "#Ha= percentage of males versus females walking in to the store differ based on day of the week"
   ]
  },
  {
   "cell_type": "code",
   "execution_count": 24,
   "id": "de543d30",
   "metadata": {},
   "outputs": [
    {
     "data": {
      "text/plain": [
       "Female    233\n",
       "Male      167\n",
       "Name: Weekend, dtype: int64"
      ]
     },
     "execution_count": 24,
     "metadata": {},
     "output_type": "execute_result"
    }
   ],
   "source": [
    "df.Weekend.value_counts()"
   ]
  },
  {
   "cell_type": "code",
   "execution_count": 26,
   "id": "1b0d0249",
   "metadata": {},
   "outputs": [
    {
     "data": {
      "text/plain": [
       "Female    287\n",
       "Male      113\n",
       "Name: Weekdays, dtype: int64"
      ]
     },
     "execution_count": 26,
     "metadata": {},
     "output_type": "execute_result"
    }
   ],
   "source": [
    "df.Weekdays.value_counts()"
   ]
  },
  {
   "cell_type": "code",
   "execution_count": 27,
   "id": "2856549d",
   "metadata": {},
   "outputs": [],
   "source": [
    "# 1. Create a contingency table for the data set and find the  p-value for the same using the chi-square test.\n",
    "\n",
    "fl = pd.DataFrame(index=['Female','Male'],\n",
    "                  data={'Weekdays':[287,113],'Weekend':[233,167]})"
   ]
  },
  {
   "cell_type": "code",
   "execution_count": 28,
   "id": "b4a85331",
   "metadata": {
    "ExecuteTime": {
     "end_time": "2022-11-08T13:29:32.691969Z",
     "start_time": "2022-11-08T13:29:32.678274Z"
    }
   },
   "outputs": [
    {
     "name": "stdout",
     "output_type": "stream",
     "text": [
      "p-value is  8.54342267020237e-05\n"
     ]
    }
   ],
   "source": [
    " # 2. If the p-value is less than 0.05, then reject the null hypothesis and conclude that the proportion\n",
    "\n",
    "stat, p, dof,  expected =stats.chi2_contingency(fl) \n",
    " \n",
    "\n",
    "print('p-value is ', p) \n",
    "\n"
   ]
  },
  {
   "cell_type": "code",
   "execution_count": 29,
   "id": "e69a826f",
   "metadata": {
    "ExecuteTime": {
     "end_time": "2022-11-08T13:31:07.410029Z",
     "start_time": "2022-11-08T13:31:07.395512Z"
    }
   },
   "outputs": [
    {
     "name": "stdout",
     "output_type": "stream",
     "text": [
      "Reject the null hypothesis\n"
     ]
    }
   ],
   "source": [
    "if p < 0.05:\n",
    "    print('Reject the null hypothesis')\n",
    "else:\n",
    "    print('Accept the null hypothesis')\n",
    "\n",
    " \n",
    " "
   ]
  },
  {
   "cell_type": "code",
   "execution_count": null,
   "id": "fc1b84b0",
   "metadata": {
    "ExecuteTime": {
     "end_time": "2022-11-08T13:31:16.337913Z",
     "start_time": "2022-11-08T13:31:16.318752Z"
    }
   },
   "outputs": [],
   "source": [
    " #Since p-value (0.8534e-05)\n",
    "#Conclusion: Proportions of Male and Female are not same. "
   ]
  },
  {
   "cell_type": "code",
   "execution_count": null,
   "id": "c0fe3fe1",
   "metadata": {
    "ExecuteTime": {
     "end_time": "2022-11-08T12:17:33.978075Z",
     "start_time": "2022-11-08T12:17:33.964444Z"
    }
   },
   "outputs": [],
   "source": [
    " "
   ]
  },
  {
   "cell_type": "code",
   "execution_count": null,
   "id": "5a982588",
   "metadata": {
    "ExecuteTime": {
     "end_time": "2022-11-08T12:43:11.073564Z",
     "start_time": "2022-11-08T12:43:10.866459Z"
    }
   },
   "outputs": [],
   "source": [
    " "
   ]
  },
  {
   "cell_type": "code",
   "execution_count": null,
   "id": "073c9a13",
   "metadata": {},
   "outputs": [],
   "source": []
  },
  {
   "cell_type": "code",
   "execution_count": null,
   "id": "d774a78e",
   "metadata": {},
   "outputs": [],
   "source": []
  }
 ],
 "metadata": {
  "kernelspec": {
   "display_name": "Python 3.9.12 ('base')",
   "language": "python",
   "name": "python3"
  },
  "language_info": {
   "codemirror_mode": {
    "name": "ipython",
    "version": 3
   },
   "file_extension": ".py",
   "mimetype": "text/x-python",
   "name": "python",
   "nbconvert_exporter": "python",
   "pygments_lexer": "ipython3",
   "version": "3.9.12"
  },
  "vscode": {
   "interpreter": {
    "hash": "23e5392998f5f8924c9adf259d8ceffff5e49b4531bd581903746f99de4d075a"
   }
  }
 },
 "nbformat": 4,
 "nbformat_minor": 5
}
